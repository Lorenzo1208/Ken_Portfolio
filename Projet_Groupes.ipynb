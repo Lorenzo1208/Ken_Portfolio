{
  "nbformat": 4,
  "nbformat_minor": 0,
  "metadata": {
    "colab": {
      "provenance": [],
      "history_visible": true,
      "mount_file_id": "1QeXqPsorsSbky8z4TfWK-ZoIcE1wiDao",
      "authorship_tag": "ABX9TyObmxqWJX9xTH0bm9hxN5rV",
      "include_colab_link": true
    },
    "kernelspec": {
      "name": "python3",
      "display_name": "Python 3"
    },
    "language_info": {
      "name": "python"
    }
  },
  "cells": [
    {
      "cell_type": "markdown",
      "metadata": {
        "id": "view-in-github",
        "colab_type": "text"
      },
      "source": [
        "<a href=\"https://colab.research.google.com/github/Lorenzo1208/Ken_Portfolio/blob/master/Projet_Groupes.ipynb\" target=\"_parent\"><img src=\"https://colab.research.google.com/assets/colab-badge.svg\" alt=\"Open In Colab\"/></a>"
      ]
    },
    {
      "cell_type": "code",
      "source": [
        "import csv\n",
        "f = open(\"listing_apprenants - Feuille 1.csv\")\n",
        "#~ print(f)\n",
        "for line in f:\n",
        "    line=line.strip()\n",
        "    cols=line.split(',')\n",
        "    if cols[3] != 'apprenant':\n",
        "      continue\n",
        "    tel = cols[7]\n",
        "    tel = tel.replace('.','').replace(' ','')\n",
        "    if not tel :\n",
        "      print('tel vide ! ')\n",
        "    if len(tel) == 9:\n",
        "      tel ='0'+tel\n",
        "    cols[0] = cols[0].capitalize()\n",
        "    print(f\"{cols[0]:15}{tel}\")\n",
        "\n"
      ],
      "metadata": {
        "colab": {
          "base_uri": "https://localhost:8080/"
        },
        "id": "snwrz1EYSun4",
        "outputId": "e1b0fe6e-0a95-43ca-c768-e7dcd4099438"
      },
      "execution_count": 182,
      "outputs": [
        {
          "output_type": "stream",
          "name": "stdout",
          "text": [
            "Adrien         0785306412\n",
            "Adile          0780026088\n",
            "David          0643299313\n",
            "Lorenzo        0628274323\n",
            "Asmae          0758354504\n",
            "tel vide ! \n",
            "Fadhila selma  \n",
            "tel vide ! \n",
            "Tarik          \n",
            "Matthieu       0786113778\n",
            "Sylvine        0630425781\n",
            "Maud           0642592674\n",
            "Fengfeng       0752132785\n",
            "Manuel         0785256671\n",
            "Jérémy         0670334660\n",
            "Evelyne        0752036033\n"
          ]
        }
      ]
    },
    {
      "cell_type": "code",
      "source": [
        "import csv\n",
        "import random\n",
        "\n",
        "# Création de la fonction pour mélanger les groupes\n",
        "def creer_groupes(personnes):\n",
        "    \n",
        "    # Ouvre le fichier CSV et lit les données\n",
        "    with open(\"listing_apprenants - Feuille 1.csv\") as csv_file:\n",
        "        \n",
        "        csv_reader = csv.reader(csv_file)\n",
        "        \n",
        "        # Créer une liste \"groupes\" qui va accueillir les prénoms\n",
        "        groupes = []\n",
        "        \n",
        "        # Itère sur tout le fichier\n",
        "        for ligne in csv_reader:\n",
        "            # Ajoute le premier élement de la première colonne à la liste\n",
        "            groupes.append(ligne[0])\n",
        "\n",
        "    # On enlève les 4 première lignes \n",
        "    groups=groupes[4:]\n",
        "\n",
        "    # Stocker dans n le nombre entré au clavier\n",
        "    n = int(input('Combien de personnes par groupe:\\n'))\n",
        "\n",
        "    # Place dans personnes les élements de la liste groups\n",
        "    personnes = groups\n",
        "    # Mélanger la liste des personnes\n",
        "    random.shuffle(personnes)\n",
        "\n",
        "    # Créer une liste vide pour stocker les nouveaux groupes\n",
        "    groupes = []\n",
        "\n",
        "    # Créer des groupes de n jusqu'à ce que la liste des personnes soit vide.\n",
        "    while len(personnes) > 0:\n",
        "\n",
        "        # Prendre les n premières personnes de la liste de personnes\n",
        "        groupe = personnes[:n]\n",
        "\n",
        "        # Ajouter le groupe à la liste des groupes\n",
        "        groupes.append(groupe) \n",
        "\n",
        "        # Supprimez les n personnes de la liste des personnes.\n",
        "        personnes = personnes[n:]\n",
        "\n",
        "    # Si le nombre de groupe est impair\n",
        "    if n % 2 == 1 :\n",
        "        # On copie la liste\n",
        "        ma_lists_copy = groupes.copy()\n",
        "\n",
        "        # On va retirer le dernier groupe et le replacer \n",
        "        p1 = groupes.pop()\n",
        "        #p2 = groupes.pop()\n",
        "\n",
        "        groupes[0].extend(p1)\n",
        "        #groupes[1].extend(p2)\n",
        "    \n",
        "    # Retourner la liste des groupes\n",
        "    return groupes\n",
        "\n",
        "# Exemples :\n",
        "groupes = creer_groupes(personnes)\n",
        "print(groupes)"
      ],
      "metadata": {
        "colab": {
          "base_uri": "https://localhost:8080/"
        },
        "id": "GzTLKSZV-SNt",
        "outputId": "fe30ad30-ef3a-4c5b-f224-cd36daf676d7"
      },
      "execution_count": 179,
      "outputs": [
        {
          "output_type": "stream",
          "name": "stdout",
          "text": [
            "Combien de personnes par groupe:\n",
            "2\n",
            "[['Manuel ', 'Adile'], ['Lorenzo', 'Fadhila Selma'], ['Evelyne', 'Fengfeng'], ['Adrien', 'Tarik'], ['Matthieu', 'jérémy '], ['David', 'Sylvine'], ['Maud', 'Asmae']]\n"
          ]
        }
      ]
    }
  ]
}